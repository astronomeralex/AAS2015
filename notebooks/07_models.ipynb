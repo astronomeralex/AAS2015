{
 "metadata": {
  "name": "",
  "signature": "sha256:c0628a5ef00c9966016d7cf077c28b57dbec532a894251a5a6dd5f7063889527"
 },
 "nbformat": 3,
 "nbformat_minor": 0,
 "worksheets": [
  {
   "cells": [
    {
     "cell_type": "heading",
     "level": 1,
     "metadata": {},
     "source": [
      "Basic Models and Fitting"
     ]
    },
    {
     "cell_type": "markdown",
     "metadata": {},
     "source": [
      "**Goals:**\n",
      "\n",
      "- Decouple code for models, fitting statistics, and optimizers\n",
      "- Make it easier to add models that take full advantage of fitting machinery without knowledge of fitting engine details\n",
      "- Allow arbitrary combinations of models to produce more complex models\n",
      "- Support basic parameter constraints\n",
      "- Don't try to solve all possible problems"
     ]
    },
    {
     "cell_type": "code",
     "collapsed": false,
     "input": [
      "from __future__ import print_function, division\n",
      "from astropy.modeling import models, fitting"
     ],
     "language": "python",
     "metadata": {},
     "outputs": [],
     "prompt_number": 1
    },
    {
     "cell_type": "code",
     "collapsed": false,
     "input": [
      "dir(models)"
     ],
     "language": "python",
     "metadata": {},
     "outputs": [],
     "prompt_number": 2
    },
    {
     "cell_type": "heading",
     "level": 2,
     "metadata": {},
     "source": [
      "Simple one component model"
     ]
    },
    {
     "cell_type": "heading",
     "level": 3,
     "metadata": {},
     "source": [
      "Create basic 1D Gaussian model"
     ]
    },
    {
     "cell_type": "code",
     "collapsed": false,
     "input": [
      "g = models.Gaussian1D(amplitude=1.1,mean=0.0,stddev=0.2)\n",
      "print(g.amplitude, g.mean, g.stddev)"
     ],
     "language": "python",
     "metadata": {},
     "outputs": [],
     "prompt_number": 3
    },
    {
     "cell_type": "markdown",
     "metadata": {},
     "source": [
      "Models evaluate just like functions"
     ]
    },
    {
     "cell_type": "code",
     "collapsed": false,
     "input": [
      "x = linspace(-1.,1.,500) # array of equally spaced x  values from -1 to 1\n",
      "clf()\n",
      "plot(x,g(x))"
     ],
     "language": "python",
     "metadata": {},
     "outputs": [],
     "prompt_number": 4
    },
    {
     "cell_type": "heading",
     "level": 3,
     "metadata": {},
     "source": [
      "Modifying model parameters"
     ]
    },
    {
     "cell_type": "code",
     "collapsed": false,
     "input": [
      "g.mean=0.5\n",
      "print(g.stddev)\n",
      "plot(x,g(x))"
     ],
     "language": "python",
     "metadata": {},
     "outputs": [],
     "prompt_number": 5
    },
    {
     "cell_type": "heading",
     "level": 2,
     "metadata": {},
     "source": [
      "Simple Fitting Example"
     ]
    },
    {
     "cell_type": "markdown",
     "metadata": {},
     "source": [
      "Create data to fit to"
     ]
    },
    {
     "cell_type": "code",
     "collapsed": false,
     "input": [
      "data = g(x) + random.normal(0., 0.4, x.shape)\n",
      "plot(x,data)"
     ],
     "language": "python",
     "metadata": {},
     "outputs": [],
     "prompt_number": 6
    },
    {
     "cell_type": "code",
     "collapsed": false,
     "input": [
      "fitter = fitting.LevMarLSQFitter()\n",
      "# change initial model values\n",
      "g.mean = .2 \n",
      "g.amplitude = 2\n",
      "g.stddev = 0.05\n",
      "fit_g = fitter(g, x, data)\n",
      "print(fit_g)"
     ],
     "language": "python",
     "metadata": {},
     "outputs": [],
     "prompt_number": 7
    },
    {
     "cell_type": "code",
     "collapsed": false,
     "input": [
      "plot(x,fit_g(x))"
     ],
     "language": "python",
     "metadata": {},
     "outputs": [],
     "prompt_number": 8
    },
    {
     "cell_type": "heading",
     "level": 2,
     "metadata": {},
     "source": [
      "Compound Models"
     ]
    },
    {
     "cell_type": "markdown",
     "metadata": {},
     "source": [
      "*Examples involving compound models require astropy v1.0, due out within a month*"
     ]
    },
    {
     "cell_type": "code",
     "collapsed": false,
     "input": [
      "g1 = models.Gaussian1D(1,1,.1)\n",
      "g2 = models.Gaussian1D(.5,.8,.2)\n",
      "g = g1 + g2"
     ],
     "language": "python",
     "metadata": {},
     "outputs": [],
     "prompt_number": 9
    },
    {
     "cell_type": "code",
     "collapsed": false,
     "input": [
      "clf()\n",
      "x = linspace(0.,2,2000)\n",
      "y = g(x) + random.normal(0,.2,x.shape)\n",
      "plot(x,y)"
     ],
     "language": "python",
     "metadata": {},
     "outputs": [],
     "prompt_number": 10
    },
    {
     "cell_type": "code",
     "collapsed": false,
     "input": [
      "g3 = models.Gaussian1D(1,1,.1)\n",
      "g4 = models.Gaussian1D(1,1,.1)\n",
      "gf = g3+g4"
     ],
     "language": "python",
     "metadata": {},
     "outputs": [],
     "prompt_number": 11
    },
    {
     "cell_type": "code",
     "collapsed": false,
     "input": [
      "fitter = fitting.SLSQPLSQFitter()"
     ],
     "language": "python",
     "metadata": {},
     "outputs": [],
     "prompt_number": 12
    },
    {
     "cell_type": "code",
     "collapsed": false,
     "input": [
      "fitmodel = fitter(gf,x,y)"
     ],
     "language": "python",
     "metadata": {},
     "outputs": [],
     "prompt_number": 13
    },
    {
     "cell_type": "code",
     "collapsed": false,
     "input": [
      "plot(x,g(x),color='y')\n",
      "plot(x,fitmodel(x),color='r')"
     ],
     "language": "python",
     "metadata": {},
     "outputs": [],
     "prompt_number": 14
    },
    {
     "cell_type": "heading",
     "level": 2,
     "metadata": {},
     "source": [
      "Parameter Constraints"
     ]
    },
    {
     "cell_type": "heading",
     "level": 2,
     "metadata": {},
     "source": [
      "Tied Parameters"
     ]
    },
    {
     "cell_type": "code",
     "collapsed": false,
     "input": [
      "g = models.Gaussian1D(amplitude=1.1,mean=0.0,stddev=0.2)\n",
      "x = linspace(-1.,1.,500) # array of equally spaced x  values from -1 to 1\n",
      "gorig = g(x)\n",
      "y = g(x) + random.normal(0,.2,x.shape)\n",
      "fitter = fitting.LevMarLSQFitter()\n",
      "g.amplitude = .9\n",
      "g.amplitude.fixed = True\n",
      "fit_g = fitter(g,x,y)\n",
      "clf()\n",
      "plot(x,y)\n",
      "plot(x,gorig)\n",
      "plot(x,fit_g(x))"
     ],
     "language": "python",
     "metadata": {},
     "outputs": [],
     "prompt_number": 15
    },
    {
     "cell_type": "heading",
     "level": 2,
     "metadata": {},
     "source": [
      "Parameter Bounds"
     ]
    },
    {
     "cell_type": "code",
     "collapsed": false,
     "input": [
      "g.amplitude.fixed = False\n",
      "g.amplitude.max = .6\n",
      "fit_g = fitter(g,x,y)\n",
      "clf()\n",
      "plot(x,y)\n",
      "plot(x,gorig)\n",
      "plot(x,fit_g(x))"
     ],
     "language": "python",
     "metadata": {},
     "outputs": [],
     "prompt_number": 16
    },
    {
     "cell_type": "code",
     "collapsed": false,
     "input": [
      "# force ratio of means to be specified constant\n",
      "def tied(model):\n",
      "    mean_1 = 2. * model.mean_0\n",
      "    return mean_1\n",
      "g1 = models.Gaussian1D(1,1,.1)\n",
      "g2 = models.Gaussian1D(.5,.6,.2)\n",
      "g = g1 + g2\n",
      "y = g(x) + random.normal(0.,.2,x.shape)\n",
      "gf = models.Gaussian1D(.4,.6,.3) + models.Gaussian1D(1,1,.1)\n",
      "gf.mean_1.tied = tied\n",
      "fitter2 = fitting.SimplexLSQFitter()\n",
      "fitmodel2 = fitter2(gf,x,y)"
     ],
     "language": "python",
     "metadata": {},
     "outputs": [],
     "prompt_number": 17
    },
    {
     "cell_type": "code",
     "collapsed": false,
     "input": [
      "clf()\n",
      "plot(x,y)\n",
      "plot(x,g(x),color='y')\n",
      "plot(x,fitmodel2(x),color='orange')\n",
      "fitmodel2"
     ],
     "language": "python",
     "metadata": {},
     "outputs": [],
     "prompt_number": 18
    },
    {
     "cell_type": "markdown",
     "metadata": {},
     "source": [
      "Support for parameter constraints varies between fitters. To see what is supported:"
     ]
    },
    {
     "cell_type": "code",
     "collapsed": false,
     "input": [
      "fitting.LinearLSQFitter.supported_constraints"
     ],
     "language": "python",
     "metadata": {},
     "outputs": [],
     "prompt_number": 19
    },
    {
     "cell_type": "code",
     "collapsed": false,
     "input": [
      "fitting.SimplexLSQFitter.supported_constraints"
     ],
     "language": "python",
     "metadata": {},
     "outputs": [],
     "prompt_number": 20
    },
    {
     "cell_type": "heading",
     "level": 2,
     "metadata": {},
     "source": [
      "Supporting Ensemble Fits"
     ]
    },
    {
     "cell_type": "code",
     "collapsed": false,
     "input": [
      "p = models.Polynomial1D(2,c0=.5,c1=0,c2=1) # one model\n",
      "parr = models.Polynomial1D(2, c0=0.5*ones(10), c1=zeros(10), c2=ones(10),n_models=10)\n",
      "parr"
     ],
     "language": "python",
     "metadata": {},
     "outputs": [],
     "prompt_number": 21
    },
    {
     "cell_type": "code",
     "collapsed": false,
     "input": [
      "parreal = models.Polynomial1D(2, c0=0.5*ones(10)+random.normal(0,0.1,10), \\\n",
      "                               c1=zeros(10), c2=ones(10)+random.normal(0,.1,10),\n",
      "                               n_models=10)\n",
      "x = linspace(-1,1,21)\n",
      "data = parreal(x, model_set_axis=False)\n",
      "data\n",
      "modc = parreal.copy()\n",
      "fitter = fitting.LinearLSQFitter()\n",
      "fitmodels = fitter(parreal, x, data)\n",
      "print(parreal)\n",
      "print(fitmodels)"
     ],
     "language": "python",
     "metadata": {},
     "outputs": [],
     "prompt_number": 22
    },
    {
     "cell_type": "code",
     "collapsed": false,
     "input": [
      "import numpy as np\n",
      "newaxis"
     ],
     "language": "python",
     "metadata": {},
     "outputs": [],
     "prompt_number": 23
    },
    {
     "cell_type": "code",
     "collapsed": false,
     "input": [],
     "language": "python",
     "metadata": {},
     "outputs": [],
     "prompt_number": 23
    },
    {
     "cell_type": "code",
     "collapsed": false,
     "input": [],
     "language": "python",
     "metadata": {},
     "outputs": [],
     "prompt_number": 24
    },
    {
     "cell_type": "code",
     "collapsed": false,
     "input": [],
     "language": "python",
     "metadata": {},
     "outputs": []
    }
   ],
   "metadata": {}
  }
 ]
}