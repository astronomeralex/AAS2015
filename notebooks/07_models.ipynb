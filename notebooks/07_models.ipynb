{
 "metadata": {
  "name": "",
  "signature": "sha256:dfc0e494db25710da0c6e78dc0bf80a3908d429b0b9226ec441418ad7fbe2611"
 },
 "nbformat": 3,
 "nbformat_minor": 0,
 "worksheets": [
  {
   "cells": [
    {
     "cell_type": "heading",
     "level": 1,
     "metadata": {},
     "source": [
      "Basic Models and Fitting"
     ]
    },
    {
     "cell_type": "markdown",
     "metadata": {},
     "source": [
      "**Goals:**\n",
      "\n",
      "- Decouple code for models, fitting statistics, and optimizers\n",
      "- Make it easier to add models that take full advantage of fitting machinery without knowledge of fitting engine details\n",
      "- Allow arbitrary combinations of models to produce more complex models\n",
      "- Support basic parameter constraints\n",
      "- Don't try to solve all possible problems"
     ]
    },
    {
     "cell_type": "code",
     "collapsed": false,
     "input": [
      "from astropy.modeling import models, fitting"
     ],
     "language": "python",
     "metadata": {},
     "outputs": [],
     "prompt_number": 1
    },
    {
     "cell_type": "code",
     "collapsed": false,
     "input": [
      "dir(models)"
     ],
     "language": "python",
     "metadata": {},
     "outputs": [
      {
       "metadata": {},
       "output_type": "pyout",
       "prompt_number": 3,
       "text": [
        "[u'AffineTransformation2D',\n",
        " u'AiryDisk2D',\n",
        " u'Beta1D',\n",
        " u'Beta2D',\n",
        " u'Box1D',\n",
        " u'Box2D',\n",
        " u'BrokenPowerLaw1D',\n",
        " 'CONSTRAINTS_DOC',\n",
        " u'Chebyshev1D',\n",
        " u'Chebyshev2D',\n",
        " u'Const1D',\n",
        " u'Const2D',\n",
        " u'Disk2D',\n",
        " u'Ellipse2D',\n",
        " u'ExponentialCutoffPowerLaw1D',\n",
        " u'Gaussian1D',\n",
        " u'Gaussian2D',\n",
        " u'GaussianAbsorption1D',\n",
        " 'Identity',\n",
        " u'InverseSIP',\n",
        " u'Legendre1D',\n",
        " u'Legendre2D',\n",
        " u'Linear1D',\n",
        " u'LogParabola1D',\n",
        " u'Lorentz1D',\n",
        " 'MODELS_WITH_CONSTRAINTS',\n",
        " 'Mapping',\n",
        " u'MexicanHat1D',\n",
        " u'MexicanHat2D',\n",
        " u'OrthoPolynomialBase',\n",
        " u'Pix2SkyProjection',\n",
        " u'Pix2Sky_AZP',\n",
        " u'Pix2Sky_CAR',\n",
        " u'Pix2Sky_CEA',\n",
        " u'Pix2Sky_CYP',\n",
        " u'Pix2Sky_MER',\n",
        " u'Pix2Sky_SIN',\n",
        " u'Pix2Sky_STG',\n",
        " u'Pix2Sky_TAN',\n",
        " u'Polynomial1D',\n",
        " u'Polynomial2D',\n",
        " u'PolynomialModel',\n",
        " u'PowerLaw1D',\n",
        " u'Projection',\n",
        " u'Redshift',\n",
        " u'Ring2D',\n",
        " u'RotateCelestial2Native',\n",
        " u'RotateNative2Celestial',\n",
        " u'Rotation2D',\n",
        " u'SIP',\n",
        " u'Scale',\n",
        " u'Shift',\n",
        " u'Sine1D',\n",
        " u'Sky2PixProjection',\n",
        " u'Sky2Pix_AZP',\n",
        " u'Sky2Pix_CAR',\n",
        " u'Sky2Pix_CEA',\n",
        " u'Sky2Pix_CYP',\n",
        " u'Sky2Pix_MER',\n",
        " u'Sky2Pix_SIN',\n",
        " u'Sky2Pix_STG',\n",
        " u'Sky2Pix_TAN',\n",
        " u'Trapezoid1D',\n",
        " u'TrapezoidDisk2D',\n",
        " '__builtins__',\n",
        " '__doc__',\n",
        " '__file__',\n",
        " '__name__',\n",
        " '__package__',\n",
        " 'absolute_import',\n",
        " 'custom_model',\n",
        " u'custom_model_1d',\n",
        " 'division',\n",
        " 'item',\n",
        " 'print_function',\n",
        " 'unicode_literals']"
       ]
      }
     ],
     "prompt_number": 3
    },
    {
     "cell_type": "heading",
     "level": 2,
     "metadata": {},
     "source": [
      "Simple one component model"
     ]
    },
    {
     "cell_type": "heading",
     "level": 3,
     "metadata": {},
     "source": [
      "Create basic 1D Gaussian model"
     ]
    },
    {
     "cell_type": "code",
     "collapsed": false,
     "input": [
      "g = models.Gaussian1D(amplitude=1.1,mean=0.0,stddev=0.2)\n",
      "print g.amplitude, g.mean, g.stddev"
     ],
     "language": "python",
     "metadata": {},
     "outputs": [
      {
       "output_type": "stream",
       "stream": "stdout",
       "text": [
        "Parameter('amplitude', value=1.1) Parameter('mean', value=0.0) Parameter('stddev', value=0.2)\n"
       ]
      }
     ],
     "prompt_number": 4
    },
    {
     "cell_type": "markdown",
     "metadata": {},
     "source": [
      "Models evaluate just like functions"
     ]
    },
    {
     "cell_type": "code",
     "collapsed": false,
     "input": [
      "x = linspace(-1.,1.,500) # array of equally spaced x  values from -1 to 1\n",
      "clf()\n",
      "plot(x,g(x))"
     ],
     "language": "python",
     "metadata": {},
     "outputs": [
      {
       "metadata": {},
       "output_type": "pyout",
       "prompt_number": 5,
       "text": [
        "[<matplotlib.lines.Line2D at 0x10d1ace10>]"
       ]
      }
     ],
     "prompt_number": 5
    },
    {
     "cell_type": "heading",
     "level": 3,
     "metadata": {},
     "source": [
      "Modifying model parameters"
     ]
    },
    {
     "cell_type": "code",
     "collapsed": false,
     "input": [
      "g.mean=0.5\n",
      "print g.stddev\n",
      "plot(x,g(x))"
     ],
     "language": "python",
     "metadata": {},
     "outputs": [
      {
       "output_type": "stream",
       "stream": "stdout",
       "text": [
        "Parameter('stddev', value=0.2)\n"
       ]
      },
      {
       "metadata": {},
       "output_type": "pyout",
       "prompt_number": 6,
       "text": [
        "[<matplotlib.lines.Line2D at 0x10d1c2d10>]"
       ]
      }
     ],
     "prompt_number": 6
    },
    {
     "cell_type": "heading",
     "level": 2,
     "metadata": {},
     "source": [
      "Simple Fitting Example"
     ]
    },
    {
     "cell_type": "markdown",
     "metadata": {},
     "source": [
      "Create data to fit to"
     ]
    },
    {
     "cell_type": "code",
     "collapsed": false,
     "input": [
      "data = g(x) + random.normal(0., 0.4, x.shape)\n",
      "plot(x,data)"
     ],
     "language": "python",
     "metadata": {},
     "outputs": [
      {
       "metadata": {},
       "output_type": "pyout",
       "prompt_number": 7,
       "text": [
        "[<matplotlib.lines.Line2D at 0x10d1c4490>]"
       ]
      }
     ],
     "prompt_number": 7
    },
    {
     "cell_type": "code",
     "collapsed": false,
     "input": [
      "fitter = fitting.LevMarLSQFitter()\n",
      "# change initial model values\n",
      "g.mean = .2 \n",
      "g.amplitude = 2\n",
      "g.stddev = 0.05\n",
      "fit_g = fitter(g, x, data)\n",
      "print fit_g"
     ],
     "language": "python",
     "metadata": {},
     "outputs": [
      {
       "output_type": "stream",
       "stream": "stdout",
       "text": [
        "Model: Gaussian1D\n",
        "Inputs: (u'x',)\n",
        "Outputs: (u'y',)\n",
        "Model set size: 1\n",
        "Parameters:\n",
        "      amplitude        mean          stddev    \n",
        "    ------------- -------------- --------------\n",
        "    1.11583882919 0.497540482948 0.191543276906\n"
       ]
      }
     ],
     "prompt_number": 8
    },
    {
     "cell_type": "code",
     "collapsed": false,
     "input": [
      "plot(x,fit_g(x))"
     ],
     "language": "python",
     "metadata": {},
     "outputs": [
      {
       "metadata": {},
       "output_type": "pyout",
       "prompt_number": 9,
       "text": [
        "[<matplotlib.lines.Line2D at 0x10d1c4150>]"
       ]
      }
     ],
     "prompt_number": 9
    },
    {
     "cell_type": "heading",
     "level": 2,
     "metadata": {},
     "source": [
      "Compound Models"
     ]
    },
    {
     "cell_type": "markdown",
     "metadata": {},
     "source": [
      "*Examples involving compound models require astropy v1.0, due out within a month*"
     ]
    },
    {
     "cell_type": "code",
     "collapsed": false,
     "input": [
      "g1 = models.Gaussian1D(1,1,.1)\n",
      "g2 = models.Gaussian1D(.5,.8,.2)\n",
      "g = g1 + g2"
     ],
     "language": "python",
     "metadata": {},
     "outputs": [],
     "prompt_number": 10
    },
    {
     "cell_type": "code",
     "collapsed": false,
     "input": [
      "clf()\n",
      "x = linspace(0.,2,2000)\n",
      "y = g(x) + random.normal(0,.2,x.shape)\n",
      "plot(x,y)"
     ],
     "language": "python",
     "metadata": {},
     "outputs": [
      {
       "metadata": {},
       "output_type": "pyout",
       "prompt_number": 11,
       "text": [
        "[<matplotlib.lines.Line2D at 0x11081e1d0>]"
       ]
      }
     ],
     "prompt_number": 11
    },
    {
     "cell_type": "code",
     "collapsed": false,
     "input": [
      "g3 = models.Gaussian1D(1,1,.1)\n",
      "g4 = models.Gaussian1D(1,1,.1)\n",
      "gf = g3+g4"
     ],
     "language": "python",
     "metadata": {},
     "outputs": [],
     "prompt_number": 12
    },
    {
     "cell_type": "code",
     "collapsed": false,
     "input": [
      "fitter = fitting.SLSQPLSQFitter()"
     ],
     "language": "python",
     "metadata": {},
     "outputs": [],
     "prompt_number": 13
    },
    {
     "cell_type": "code",
     "collapsed": false,
     "input": [
      "fitmodel = fitter(gf,x,y)"
     ],
     "language": "python",
     "metadata": {},
     "outputs": [
      {
       "output_type": "stream",
       "stream": "stdout",
       "text": [
        "Optimization terminated successfully.    (Exit mode 0)\n",
        "            Current function value: 77.1238370848\n",
        "            Iterations: 32\n",
        "            Function evaluations: 294\n",
        "            Gradient evaluations: 32\n"
       ]
      }
     ],
     "prompt_number": 14
    },
    {
     "cell_type": "code",
     "collapsed": false,
     "input": [
      "plot(x,g(x),color='y')\n",
      "plot(x,fitmodel(x),color='r')"
     ],
     "language": "python",
     "metadata": {},
     "outputs": [
      {
       "metadata": {},
       "output_type": "pyout",
       "prompt_number": 15,
       "text": [
        "[<matplotlib.lines.Line2D at 0x110851850>]"
       ]
      }
     ],
     "prompt_number": 15
    },
    {
     "cell_type": "heading",
     "level": 2,
     "metadata": {},
     "source": [
      "Parameter Constraints"
     ]
    },
    {
     "cell_type": "heading",
     "level": 2,
     "metadata": {},
     "source": [
      "Tied Parameters"
     ]
    },
    {
     "cell_type": "code",
     "collapsed": false,
     "input": [
      "g = models.Gaussian1D(amplitude=1.1,mean=0.0,stddev=0.2)\n",
      "x = linspace(-1.,1.,500) # array of equally spaced x  values from -1 to 1\n",
      "gorig = g(x)\n",
      "y = g(x) + random.normal(0,.2,x.shape)\n",
      "fitter = fitting.LevMarLSQFitter()\n",
      "g.amplitude = .9\n",
      "g.amplitude.fixed = True\n",
      "fit_g = fitter(g,x,y)\n",
      "clf()\n",
      "plot(x,y)\n",
      "plot(x,gorig)\n",
      "plot(x,fit_g(x))"
     ],
     "language": "python",
     "metadata": {},
     "outputs": [
      {
       "metadata": {},
       "output_type": "pyout",
       "prompt_number": 16,
       "text": [
        "[<matplotlib.lines.Line2D at 0x11086fed0>]"
       ]
      }
     ],
     "prompt_number": 16
    },
    {
     "cell_type": "heading",
     "level": 2,
     "metadata": {},
     "source": [
      "Parameter Bounds"
     ]
    },
    {
     "cell_type": "code",
     "collapsed": false,
     "input": [
      "g.amplitude.fixed = False\n",
      "g.amplitude.max = .6\n",
      "fit_g = fitter(g,x,y)\n",
      "clf()\n",
      "plot(x,y)\n",
      "plot(x,gorig)\n",
      "plot(x,fit_g(x))"
     ],
     "language": "python",
     "metadata": {},
     "outputs": [
      {
       "metadata": {},
       "output_type": "pyout",
       "prompt_number": 17,
       "text": [
        "[<matplotlib.lines.Line2D at 0x110851b50>]"
       ]
      }
     ],
     "prompt_number": 17
    },
    {
     "cell_type": "code",
     "collapsed": false,
     "input": [
      "# force ratio of means to be specified constant\n",
      "def tied(model):\n",
      "    mean_1 = 2. * model.mean_0\n",
      "    return mean_1\n",
      "g1 = models.Gaussian1D(1,1,.1)\n",
      "g2 = models.Gaussian1D(.5,.6,.2)\n",
      "g = g1 + g2\n",
      "y = g(x) + random.normal(0.,.2,x.shape)\n",
      "gf = models.Gaussian1D(.4,.6,.3) + models.Gaussian1D(1,1,.1)\n",
      "gf.mean_1.tied = tied\n",
      "fitter2 = fitting.SimplexLSQFitter()\n",
      "fitmodel2 = fitter2(gf,x,y)"
     ],
     "language": "python",
     "metadata": {},
     "outputs": [
      {
       "output_type": "stream",
       "stream": "stdout",
       "text": [
        "Optimization terminated successfully.\n",
        "         Current function value: 20.460742\n",
        "         Iterations: 434\n",
        "         Function evaluations: 709\n"
       ]
      }
     ],
     "prompt_number": 18
    },
    {
     "cell_type": "code",
     "collapsed": false,
     "input": [
      "clf()\n",
      "plot(x,y)\n",
      "plot(x,g(x),color='y')\n",
      "plot(x,fitmodel2(x),color='orange')\n",
      "fitmodel2"
     ],
     "language": "python",
     "metadata": {},
     "outputs": [
      {
       "metadata": {},
       "output_type": "pyout",
       "prompt_number": 19,
       "text": [
        "<CompoundModel3(amplitude_0=0.4733900493020603, mean_0=0.5707749564661755, stddev_0=0.18492475097409364, amplitude_1=1.8304043459936254, mean_1=1.141549912932351, stddev_1=0.16220143650673063)>"
       ]
      }
     ],
     "prompt_number": 19
    },
    {
     "cell_type": "markdown",
     "metadata": {},
     "source": [
      "Support for parameter constraints varies between fitters. To see what is supported:"
     ]
    },
    {
     "cell_type": "code",
     "collapsed": false,
     "input": [
      "fitting.LinearLSQFitter.supported_constraints"
     ],
     "language": "python",
     "metadata": {},
     "outputs": [
      {
       "metadata": {},
       "output_type": "pyout",
       "prompt_number": 20,
       "text": [
        "[u'fixed']"
       ]
      }
     ],
     "prompt_number": 20
    },
    {
     "cell_type": "code",
     "collapsed": false,
     "input": [
      "fitting.SimplexLSQFitter.supported_constraints"
     ],
     "language": "python",
     "metadata": {},
     "outputs": [
      {
       "metadata": {},
       "output_type": "pyout",
       "prompt_number": 21,
       "text": [
        "[u'bounds', u'fixed', u'tied']"
       ]
      }
     ],
     "prompt_number": 21
    },
    {
     "cell_type": "heading",
     "level": 2,
     "metadata": {},
     "source": [
      "Supporting Ensemble Fits"
     ]
    },
    {
     "cell_type": "code",
     "collapsed": false,
     "input": [
      "p = models.Polynomial1D(2,c0=.5,c1=0,c2=1) # one model\n",
      "parr = models.Polynomial1D(2, c0=0.5*ones(10), c1=zeros(10), c2=ones(10),n_models=10)\n",
      "parr"
     ],
     "language": "python",
     "metadata": {},
     "outputs": [
      {
       "metadata": {},
       "output_type": "pyout",
       "prompt_number": 22,
       "text": [
        "<Polynomial1D(2, c0=[ 0.5, 0.5, 0.5, 0.5, 0.5, 0.5, 0.5, 0.5, 0.5, 0.5], c1=[ 0., 0., 0., 0., 0., 0., 0., 0., 0., 0.], c2=[ 1., 1., 1., 1., 1., 1., 1., 1., 1., 1.], n_models=10)>"
       ]
      }
     ],
     "prompt_number": 22
    },
    {
     "cell_type": "code",
     "collapsed": false,
     "input": [
      "parreal = models.Polynomial1D(2, c0=0.5*ones(10)+random.normal(0,0.1,10), \\\n",
      "                               c1=zeros(10), c2=ones(10)+random.normal(0,.1,10),\n",
      "                               n_models=10)\n",
      "x = linspace(-1,1,21)\n",
      "data = parreal(x, model_set_axis=False)\n",
      "data\n",
      "modc = parreal.copy()\n",
      "fitter = fitting.LinearLSQFitter()\n",
      "fitmodels = fitter(parreal, x, data)\n",
      "print parreal\n",
      "print fitmodels"
     ],
     "language": "python",
     "metadata": {},
     "outputs": [
      {
       "output_type": "stream",
       "stream": "stdout",
       "text": [
        "Model: Polynomial1D\n",
        "Inputs: (u'x',)\n",
        "Outputs: (u'y',)\n",
        "Model set size: 10\n",
        "Degree: 2\n",
        "Parameters:\n",
        "          c0        c1       c2      \n",
        "    -------------- --- --------------\n",
        "    0.400797262959 0.0  1.04382741148\n",
        "    0.591497097827 0.0  1.00727647498\n",
        "    0.630966807847 0.0 0.931660149867\n",
        "    0.493577203343 0.0  1.11509325241\n",
        "    0.531570273418 0.0   1.1076670867\n",
        "    0.657378197861 0.0  1.07236301545\n",
        "    0.471239675102 0.0 0.962963173141\n",
        "    0.638328566794 0.0  1.05816777047\n",
        "    0.415632303932 0.0  1.04138624685\n",
        "    0.417099118823 0.0 0.899608619366\n",
        "Model: Polynomial1D\n",
        "Inputs: (u'x',)\n",
        "Outputs: (u'y',)\n",
        "Model set size: 10\n",
        "Degree: 2\n",
        "Parameters:\n",
        "          c0               c1              c2      \n",
        "    -------------- ----------------- --------------\n",
        "    0.400797262959 2.30695693429e-16  1.04382741148\n",
        "    0.591497097827               0.0  1.00727647498\n",
        "    0.630966807847               0.0 0.931660149867\n",
        "    0.493577203343 1.15347846714e-16  1.11509325241\n",
        "    0.531570273418 1.15347846714e-16   1.1076670867\n",
        "    0.657378197861 2.30695693429e-16  1.07236301545\n",
        "    0.471239675102 1.15347846714e-16 0.962963173141\n",
        "    0.638328566794 2.30695693429e-16  1.05816777047\n",
        "    0.415632303932 1.15347846714e-16  1.04138624685\n",
        "    0.417099118823               0.0 0.899608619366\n"
       ]
      }
     ],
     "prompt_number": 23
    },
    {
     "cell_type": "code",
     "collapsed": false,
     "input": [
      "import numpy as np\n",
      "newaxis"
     ],
     "language": "python",
     "metadata": {},
     "outputs": [],
     "prompt_number": 24
    },
    {
     "cell_type": "code",
     "collapsed": false,
     "input": [],
     "language": "python",
     "metadata": {},
     "outputs": [],
     "prompt_number": 24
    },
    {
     "cell_type": "code",
     "collapsed": false,
     "input": [],
     "language": "python",
     "metadata": {},
     "outputs": [],
     "prompt_number": 24
    },
    {
     "cell_type": "code",
     "collapsed": false,
     "input": [],
     "language": "python",
     "metadata": {},
     "outputs": []
    }
   ],
   "metadata": {}
  }
 ]
}